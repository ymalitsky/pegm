{
 "cells": [
  {
   "cell_type": "markdown",
   "metadata": {
    "collapsed": true
   },
   "source": [
    "$\\newcommand{\\n}[1]{\\left\\|#1 \\right\\|}$ \n",
    "$\\renewcommand{\\a}{\\alpha}             $ \n",
    "$\\renewcommand{\\b}{\\beta}              $ \n",
    "$\\renewcommand{\\c}{\\gamma}             $ \n",
    "$\\renewcommand{\\d}{\\delta}             $ \n",
    "$\\newcommand{\\D}{\\Delta}               $ \n",
    "$\\newcommand{\\la}{\\lambda}             $ \n",
    "$\\renewcommand{\\t}{\\tau}               $ \n",
    "$\\newcommand{\\s}{\\sigma}               $ \n",
    "$\\newcommand{\\e}{\\varepsilon}          $ \n",
    "$\\renewcommand{\\th}{\\theta}            $ \n",
    "$\\newcommand{\\x}{\\bar x}               $ \n",
    "$\\newcommand{\\R}{\\mathbb R}            $ \n",
    "$\\newcommand{\\N}{\\mathbb N}            $ \n",
    "$\\newcommand{\\Z}{\\mathbb Z}            $ \n",
    "$\\newcommand{\\E}{\\mathcal E}           $ \n",
    "$\\newcommand{\\lr}[1]{\\left\\langle #1\\right\\rangle}$\n",
    "$\\newcommand{\\nf}[1]{\\nabla f(#1)}     $\n",
    "$\\newcommand{\\hx}{\\hat x}               $\n",
    "$\\newcommand{\\hy}{\\hat y}               $\n",
    "$\\DeclareMathOperator{\\prox}{prox}      $\n",
    "$\\DeclareMathOperator{\\argmin}{argmin}  $\n",
    "$\\DeclareMathOperator{\\dom}{dom}        $\n",
    "$\\DeclareMathOperator{\\id}{Id}          $\n",
    "$\\DeclareMathOperator{\\conv}{conv}      $\n",
    "\n",
    "Consider an example of geometric programming problem for which we add $l_1$--norm:\n",
    "\\begin{equation}\n",
    "     \\min_{x\\in \\mathbb{R}^d} \\sum_{i=1}^m e^{\\langle a_i,x \\rangle+b_i} + \\langle c ,x \\rangle + ||x||_1,\n",
    "\\end{equation}\n",
    "where $a_i,c \\in \\mathbb{R}^d$, $b\\in \\mathbb{R}^m$."
   ]
  },
  {
   "cell_type": "code",
   "execution_count": 1,
   "metadata": {
    "collapsed": false
   },
   "outputs": [],
   "source": [
    "import matplotlib.pyplot as plt\n",
    "\n",
    "from methods.algorithms_terminate import *\n",
    "from misc.opt_operators import *\n",
    "\n",
    "%load_ext autoreload\n",
    "%matplotlib inline\n",
    "%autoreload 2"
   ]
  },
  {
   "cell_type": "markdown",
   "metadata": {},
   "source": [
    "We make our random data fixed for the reproducible research. We consider 3 cases below. Choose one of them"
   ]
  },
  {
   "cell_type": "code",
   "execution_count": 6,
   "metadata": {
    "collapsed": true
   },
   "outputs": [],
   "source": [
    "d = 200\n",
    "m = 50\n",
    "gen = 1\n",
    "np.random.seed(gen)\n",
    "A = np.random.uniform( 0,1, (m,d))\n",
    "b = np.random.uniform(-1,1, m)\n",
    "c = np.random.uniform(-1,1, d)"
   ]
  },
  {
   "cell_type": "code",
   "execution_count": 3,
   "metadata": {
    "collapsed": true
   },
   "outputs": [],
   "source": [
    "d = 500\n",
    "m = 100\n",
    "gen = 2\n",
    "np.random.seed(gen)\n",
    "A = np.random.uniform( 0,1, (m,d))\n",
    "b = np.random.uniform(-1,1, m)\n",
    "c = np.random.uniform(-1,1, d)"
   ]
  },
  {
   "cell_type": "code",
   "execution_count": 3,
   "metadata": {
    "collapsed": true
   },
   "outputs": [],
   "source": [
    "d = 1000\n",
    "m = 100\n",
    "gen = 3\n",
    "np.random.seed(gen)\n",
    "A = np.random.uniform( 0,1, (m,d))\n",
    "b = np.random.uniform(-1,1, m)\n",
    "c = np.random.uniform(-1,1, d)"
   ]
  },
  {
   "cell_type": "markdown",
   "metadata": {},
   "source": [
    "Define all functions"
   ]
  },
  {
   "cell_type": "code",
   "execution_count": 7,
   "metadata": {
    "collapsed": false
   },
   "outputs": [],
   "source": [
    "f = lambda x: (np.exp(A.dot(x) + b)).sum() + c.dot(x)\n",
    "\n",
    "df = lambda x: A.T.dot(np.exp(A.dot(x)+b)) + c\n",
    "\n",
    "g = lambda x: LA.norm(x,1)\n",
    "\n",
    "prox_g = lambda x, rho: prox_norm_1(x,rho)\n",
    "\n",
    "J = lambda x: f(x) + g(x)"
   ]
  },
  {
   "cell_type": "markdown",
   "metadata": {},
   "source": [
    "Set the number of iterations and the initial point"
   ]
  },
  {
   "cell_type": "code",
   "execution_count": 8,
   "metadata": {
    "collapsed": false
   },
   "outputs": [],
   "source": [
    "N = 10000\n",
    "x0 = np.zeros(d)\n",
    "#x0 = np.ones(d)*0.5"
   ]
  },
  {
   "cell_type": "code",
   "execution_count": 13,
   "metadata": {
    "collapsed": false
   },
   "outputs": [
    {
     "name": "stdout",
     "output_type": "stream",
     "text": [
      "tseng_fbf_linesearch does not terminate after 10000 iterations\n",
      "---- Alg. 2 ----\n",
      "Number of iterations: 421\n",
      "Number of prox_g: 421\n",
      "Number of F, : 832\n",
      "Time execution: 0.04\n",
      "---- Alg. 3 ----\n",
      "Number of iterations: 367\n",
      "Number of prox_g: 367\n",
      "Number of F, : 646\n",
      "Time execution: 0.03\n",
      "---- Forward-backward method-1 ----\n",
      "Number of iterations: 348\n",
      "Number of prox_g: 732\n",
      "Number of df, : 732\n",
      "Time execution: 0.06\n",
      "---- Forward-backward method-3 ----\n",
      "Number of iterations: 5122\n",
      "Number of prox_g: 5212\n",
      "Number of df, : 5212\n",
      "Time execution: 0.6\n"
     ]
    }
   ],
   "source": [
    "ans1 = tseng_fbf_linesearch(df, prox_g, x0, delta=1.5, numb_iter=N,tol=1e-6)\n",
    "ans2 = alg_VI_prox(df, prox_g, x0, numb_iter=N,tol=1e-6)\n",
    "ans3 = alg_VI_prox_minim(df,prox_g, x0,numb_iter=N, tol=1e-6)\n",
    "ans4 = fb_cruz_nghia1(df, prox_g, x0, 1,beta=1.5, numb_iter=N, tol=1e-6)\n",
    "ans5 = fb_cruz_nghia3(f,g,df, prox_g, x0, numb_iter=N, tol=1e-6)"
   ]
  },
  {
   "cell_type": "markdown",
   "metadata": {},
   "source": [
    "To see the plots of residuals, run"
   ]
  },
  {
   "cell_type": "code",
   "execution_count": 14,
   "metadata": {
    "collapsed": false
   },
   "outputs": [
    {
     "data": {
      "image/png": "[encoded data removed]",
      "text/plain": [
       "<matplotlib.figure.Figure at 0x7f50760c5590>"
      ]
     },
     "metadata": {},
     "output_type": "display_data"
    }
   ],
   "source": [
    "plt.plot(ans1[0], 'm')\n",
    "plt.plot(ans2[0], 'r')\n",
    "plt.plot(ans3[0], 'b')\n",
    "plt.plot(ans4[0], 'g')\n",
    "plt.plot(ans5[0], 'c')\n",
    "plt.yscale('log')\n",
    "plt.show()"
   ]
  },
  {
   "cell_type": "markdown",
   "metadata": {},
   "source": [
    "If we want to see the convergence plots of the energy $f(x)+g(x)$, we have to import the same algorithms from another module `algorithms`. Those algorithms take for the first argument any function $J$ which depends on $x$ and in every iteration compute $J(x)$."
   ]
  },
  {
   "cell_type": "code",
   "execution_count": 2,
   "metadata": {
    "collapsed": true
   },
   "outputs": [],
   "source": [
    "import methods.algorithms as alg"
   ]
  },
  {
   "cell_type": "code",
   "execution_count": 9,
   "metadata": {
    "collapsed": false
   },
   "outputs": [
    {
     "name": "stdout",
     "output_type": "stream",
     "text": [
      "---- FBF ----\n",
      "Number of iterations: 5000\n",
      "Number of gradients, n_grad: 15666\n",
      "Number of prox_g: 10665\n",
      "Time execution: 0.73930811882\n",
      "---- Alg. 2 ----\n",
      "Number of iterations: 5000\n",
      "Number of gradients, n_grad: 10049\n",
      "Number of prox_g: 5000\n",
      "Time execution: 0.58723115921\n",
      "---- Alg. 3 ----\n",
      "Number of iterations: 5000\n",
      "Number of gradients, n_grad: 9055\n",
      "Number of prox_g: 5000\n",
      "Time execution: 0.522175073624\n",
      "---- Cruz forward-backward method 1----\n",
      "Number of iterations: 5000\n",
      "Time execution: 0.754177093506\n",
      "---- FISTA ----\n",
      "Number of iterations: 5000\n",
      "Number of function, n_f: 10022\n",
      "Number of gradients, n_grad: 5022\n",
      "Number of prox_g: 5022\n",
      "Time execution: 0.568541049957\n"
     ]
    }
   ],
   "source": [
    "N = 5000\n",
    "ans1 = alg.tseng_fbf_linesearch(J, df, prox_g, x0, delta=1.5, numb_iter=N)\n",
    "ans2 = alg.alg_VI_prox(J, df, prox_g, x0, numb_iter=N)\n",
    "ans3 = alg.alg_VI_prox_minim(J,df,prox_g, x0,numb_iter=N)\n",
    "ans4 = alg.fb_cruz_nghia1(J, df, prox_g, x0, 1, beta=1.5, numb_iter=N)\n",
    "ans5 = alg.fista_linesearch(J, f, df, prox_g, x0, 1, numb_iter=N)"
   ]
  },
  {
   "cell_type": "markdown",
   "metadata": {},
   "source": [
    "We believe that $5000$ iterations is enough to provide a ground truth solution, so for $J_{\\min}$ we choose just the minimum from all values `ans1[0]`, `ans2[0]`, ..., `ans5[0]`"
   ]
  },
  {
   "cell_type": "code",
   "execution_count": 17,
   "metadata": {
    "collapsed": false
   },
   "outputs": [
    {
     "data": {
      "image/png": "[encoded data removed]",
      "text/plain": [
       "<matplotlib.figure.Figure at 0x7f5075a2d910>"
      ]
     },
     "metadata": {},
     "output_type": "display_data"
    }
   ],
   "source": [
    "J_min = min(ans1[0]+ans2[0]+ans3[0]+ans4[0]+ans5[0])\n",
    "\n",
    "plt.plot(ans1[0]-J_min, 'm')\n",
    "plt.plot(ans2[0]-J_min, 'r')\n",
    "plt.plot(ans3[0]-J_min, 'b')\n",
    "plt.plot(ans4[0]-J_min, 'g')\n",
    "plt.plot(ans5[0]-J_min, 'c')\n",
    "plt.yscale('log')\n",
    "plt.show()"
   ]
  },
  {
   "cell_type": "markdown",
   "metadata": {
    "collapsed": true
   },
   "source": [
    "To make plots more production like, run"
   ]
  },
  {
   "cell_type": "code",
   "execution_count": 10,
   "metadata": {
    "collapsed": true
   },
   "outputs": [],
   "source": [
    "from misc.fancy_plots import *"
   ]
  },
  {
   "cell_type": "code",
   "execution_count": 11,
   "metadata": {
    "collapsed": false
   },
   "outputs": [
    {
     "data": {
      "image/png": "[encoded data removed]",
      "text/plain": [
       "<matplotlib.figure.Figure at 0x7f47ac69c510>"
      ]
     },
     "metadata": {},
     "output_type": "display_data"
    }
   ],
   "source": [
    "values_list = [ans1[0], ans2[0], ans3[0], ans4[0], ans5[0]]\n",
    "colors = ['b','c', 'g','r', 'm']\n",
    "markers = ['D', 's', 'H', '*','d', 'd']\n",
    "labels = ['FBF', 'Alg.2', 'Alg.3','FB','FISTA']\n",
    "fancy_plot(values_list, colors, labels, markers, 'geom_progr3.pdf', '$\\phi(x_n)-\\phi^*$')\n",
    "plt.show()"
   ]
  },
  {
   "cell_type": "code",
   "execution_count": null,
   "metadata": {
    "collapsed": true
   },
   "outputs": [],
   "source": []
  }
 ],
 "metadata": {
  "kernelspec": {
   "display_name": "Python 2",
   "language": "python",
   "name": "python2"
  },
  "language_info": {
   "codemirror_mode": {
    "name": "ipython",
    "version": 2
   },
   "file_extension": ".py",
   "mimetype": "text/x-python",
   "name": "python",
   "nbconvert_exporter": "python",
   "pygments_lexer": "ipython2",
   "version": "2.7.6"
  }
 },
 "nbformat": 4,
 "nbformat_minor": 0
}
