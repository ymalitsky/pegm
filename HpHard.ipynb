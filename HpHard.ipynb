{
 "cells": [
  {
   "cell_type": "markdown",
   "metadata": {},
   "source": [
    "$\\newcommand{\\n}[1]{\\left\\|#1 \\right\\|}$ \n",
    "$\\renewcommand{\\a}{\\alpha}             $ \n",
    "$\\renewcommand{\\b}{\\beta}              $ \n",
    "$\\renewcommand{\\c}{\\gamma}             $ \n",
    "$\\renewcommand{\\d}{\\delta}             $ \n",
    "$\\newcommand{\\D}{\\Delta}               $ \n",
    "$\\newcommand{\\la}{\\lambda}             $ \n",
    "$\\renewcommand{\\t}{\\tau}               $ \n",
    "$\\newcommand{\\s}{\\sigma}               $ \n",
    "$\\newcommand{\\e}{\\varepsilon}          $ \n",
    "$\\renewcommand{\\th}{\\theta}            $ \n",
    "$\\newcommand{\\x}{\\bar x}               $ \n",
    "$\\newcommand{\\R}{\\mathbb R}            $ \n",
    "$\\newcommand{\\N}{\\mathbb N}            $ \n",
    "$\\newcommand{\\Z}{\\mathbb Z}            $ \n",
    "$\\newcommand{\\E}{\\mathcal E}           $ \n",
    "$\\newcommand{\\lr}[1]{\\left\\langle #1\\right\\rangle}$\n",
    "$\\newcommand{\\nf}[1]{\\nabla f(#1)}     $\n",
    "$\\newcommand{\\hx}{\\hat x}               $\n",
    "$\\newcommand{\\hy}{\\hat y}               $\n",
    "$\\DeclareMathOperator{\\prox}{prox}      $\n",
    "$\\DeclareMathOperator{\\argmin}{argmin}  $\n",
    "$\\DeclareMathOperator{\\dom}{dom}        $\n",
    "$\\DeclareMathOperator{\\id}{Id}          $\n",
    "$\\DeclareMathOperator{\\conv}{conv}      $\n",
    "\n",
    "We consider  the following VI [Harker,Pang]:\n",
    "\\begin{equation*}       \\lr{F(x^*),x-x^*} \\geq 0 \\quad \\forall x \\in C\n",
    "\\end{equation*}\n",
    "\n",
    "with an affine operator $F(x) = Mx+q$, where $M = AA^T + B + D$,  every entry of $A\\in \\R^{d\\times\n",
    "d}$ and of the skew-symmetric matrix $B\\in \\R^{d\\times d}$ is generated\n",
    "uniformly from $(-5,5)$, every diagonal entry of the diagonal\n",
    "matrix $D\\in \\R^{d\\times d}$ is generated uniformly from $(0,0.3)$,\n",
    "and every entry of $q\\in \\R^d$ is generated uniformly from\n",
    "$(-500,0)$. The feasible set is\n",
    "$$C = \\{x\\in \\R^d_+\\colon x_1+\\dots + x_d = d\\}.$$\n",
    "\n"
   ]
  },
  {
   "cell_type": "code",
   "execution_count": 1,
   "metadata": {
    "collapsed": true
   },
   "outputs": [],
   "source": [
    "import matplotlib.pyplot as plt\n",
    "\n",
    "from methods.algorithms_terminate import *\n",
    "from misc.opt_operators import *\n",
    "\n",
    "%load_ext autoreload\n",
    "%matplotlib inline\n",
    "%autoreload 2"
   ]
  },
  {
   "cell_type": "code",
   "execution_count": 2,
   "metadata": {
    "collapsed": false
   },
   "outputs": [],
   "source": [
    "d = 10\n",
    "\n",
    "gen = 1\n",
    "np.random.seed(gen)\n",
    "A = np.random.uniform(-5, 5, [d, d])\n",
    "B1 = np.random.uniform(-2.5, 2.5, [d, d])\n",
    "B = B1 - B1.T + np.diag(np.random.uniform(-5, 5, d))\n",
    "D = np.diag(np.random.uniform(0, 0.3, d))\n",
    "q = np.random.uniform(-500, 0, d)\n",
    "M = np.dot(A, A.T) + B + D\n",
    "\n",
    "F = lambda x: M.dot(x) + q\n",
    "prox_g = lambda x, rho: proj_simplex(x, d)\n",
    "\n",
    "J = lambda x, rho: LA.norm(x - prox_G(x - rho* F(x),rho))\n",
    "\n",
    "x0 = np.ones(d)\n",
    "\n",
    "N = 1000"
   ]
  },
  {
   "cell_type": "code",
   "execution_count": 3,
   "metadata": {
    "collapsed": false
   },
   "outputs": [
    {
     "name": "stdout",
     "output_type": "stream",
     "text": [
      "---- FBF alg.----\n",
      "Number of iterations: 137\n",
      "Number of prox_g: 138\n",
      "Number of F, : 275\n",
      "Time execution: 0.02\n",
      "---- FBF alg.----\n",
      "Number of iterations: 102\n",
      "Number of prox_g: 218\n",
      "Number of F, : 320\n",
      "Time execution: 0.02\n",
      "---- Alg. 1 ----\n",
      "Number of iterations: 98\n",
      "Number of prox_g: 98\n",
      "Number of F, : 100\n",
      "Time execution: 0.01\n",
      "---- Alg. 2 ----\n",
      "Number of iterations: 83\n",
      "Number of prox_g: 83\n",
      "Number of F, : 85\n",
      "Time execution: 0.01\n"
     ]
    }
   ],
   "source": [
    "N = 50000\n",
    "ans0 = tseng_fbf_linesearch(F, prox_g, x0, delta=1.0, numb_iter=N)\n",
    "ans1 = tseng_fbf_linesearch(F, prox_g, x0, delta=1.5, numb_iter=N)\n",
    "ans2 = alg_VI_proj_affine(F, prox_g, x0, tau_0=1, constr=True, numb_iter=N)\n",
    "ans3 = alg_VI_prox_affine(F, prox_g, x0, numb_iter=N)"
   ]
  },
  {
   "cell_type": "code",
   "execution_count": 4,
   "metadata": {
    "collapsed": false
   },
   "outputs": [],
   "source": [
    "plt.plot(ans1[0], 'b',)\n",
    "plt.plot(ans2[0], 'g')\n",
    "plt.plot(ans3[0], 'r')\n",
    "\n",
    "plt.yscale('log')\n",
    "plt.show()"
   ]
  },
  {
   "cell_type": "code",
   "execution_count": null,
   "metadata": {
    "collapsed": true
   },
   "outputs": [],
   "source": []
  }
 ],
 "metadata": {
  "kernelspec": {
   "display_name": "Python 2",
   "language": "python",
   "name": "python2"
  },
  "language_info": {
   "codemirror_mode": {
    "name": "ipython",
    "version": 2
   },
   "file_extension": ".py",
   "mimetype": "text/x-python",
   "name": "python",
   "nbconvert_exporter": "python",
   "pygments_lexer": "ipython2",
   "version": "2.7.6"
  }
 },
 "nbformat": 4,
 "nbformat_minor": 0
}
