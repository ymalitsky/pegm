{
 "cells": [
  {
   "cell_type": "markdown",
   "metadata": {},
   "source": [
    "## Sun's VIP\n",
    "$\\newcommand{\\n}[1]{\\left\\|#1 \\right\\|}$ \n",
    "$\\renewcommand{\\a}{\\alpha}             $ \n",
    "$\\renewcommand{\\b}{\\beta}              $ \n",
    "$\\renewcommand{\\c}{\\gamma}             $ \n",
    "$\\renewcommand{\\d}{\\delta}             $ \n",
    "$\\newcommand{\\D}{\\Delta}               $ \n",
    "$\\newcommand{\\la}{\\lambda}             $ \n",
    "$\\renewcommand{\\t}{\\tau}               $ \n",
    "$\\newcommand{\\s}{\\sigma}               $ \n",
    "$\\newcommand{\\e}{\\varepsilon}          $ \n",
    "$\\renewcommand{\\th}{\\theta}            $ \n",
    "$\\newcommand{\\x}{\\bar x}               $ \n",
    "$\\newcommand{\\R}{\\mathbb R}            $ \n",
    "$\\newcommand{\\N}{\\mathbb N}            $ \n",
    "$\\newcommand{\\Z}{\\mathbb Z}            $ \n",
    "$\\newcommand{\\E}{\\mathcal E}           $ \n",
    "$\\newcommand{\\lr}[1]{\\left\\langle #1\\right\\rangle}$\n",
    "$\\newcommand{\\nf}[1]{\\nabla f(#1)}     $\n",
    "$\\newcommand{\\hx}{\\hat x}               $\n",
    "$\\newcommand{\\hy}{\\hat y}               $\n",
    "$\\DeclareMathOperator{\\prox}{prox}      $\n",
    "$\\DeclareMathOperator{\\argmin}{argmin}  $\n",
    "$\\DeclareMathOperator{\\dom}{dom}        $\n",
    "$\\DeclareMathOperator{\\id}{Id}          $\n",
    "$\\DeclareMathOperator{\\conv}{conv}      $\n",
    "\n",
    "We study a nonlinear VI, proposed by\n",
    "D.Sun\n",
    "\\begin{equation}\n",
    "    \\lr{F(x^*), x-x^*} \\geq 0 \\quad \\forall x \\in C,\n",
    "\\end{equation}\n",
    " where\n",
    " \\begin{align*}\n",
    "    F(x)   & = F_1(x) + F_2(x),\\\\\n",
    "    F_1(x) & = (f_1(x),f_2(x),\\dots,   f_d(x)),\\\\\n",
    "    F_2(x) & = Dx+c, \\\\\n",
    "    f_i(x) & = x_{i-1}^2 + x_i^2 +  x_{i-1}x_i + x_i x_{i+1},\\quad   i=1,2,\\dots, d,\\\\\n",
    "    x_0 & = x_{d+1} = 0,\n",
    "  \\end{align*}\n",
    "  Here $D$ is a square matrix $d\\times d$ defined by condition\n",
    "$$d_{ij}=\n",
    "\\begin{cases}\n",
    "  4, & i = j,\\\\\n",
    "  1, & i-j=1,\\\\\n",
    "  -2,& i-j = -1,\\\\\n",
    "  0, & \\text{otherwise},\n",
    "\\end{cases}\n",
    "$$\n",
    "and $c=(-1,-1,\\dots, -1)$.\n",
    "We consider three different feasible set $C$: (a) $C = \\R^d$, (b) $C =\n",
    "[-0.25,0.25]^d$, (c) $C =\\{x\\in \\R^d_+ \\colon x_1 + \\dots + x_d = d \\} $\n"
   ]
  },
  {
   "cell_type": "code",
   "execution_count": 1,
   "metadata": {
    "collapsed": true
   },
   "outputs": [],
   "source": [
    "import matplotlib.pyplot as plt\n",
    "import scipy.sparse as sr\n",
    "\n",
    "from methods.algorithms_terminate import *\n",
    "from misc.opt_operators import *\n",
    "\n",
    "%load_ext autoreload\n",
    "%matplotlib inline\n",
    "%autoreload 2"
   ]
  },
  {
   "cell_type": "code",
   "execution_count": 4,
   "metadata": {
    "collapsed": false
   },
   "outputs": [],
   "source": [
    "dim = 1000\n",
    "\n",
    "#D = 4 * np.eye(dim) + np.diag(np.ones(dim - 1), -1) + np.diag(-2 * np.ones(dim - 1), 1)\n",
    "D = sr.diags([4,1,-2], [0,-1,1], shape=(dim, dim), format='csr')\n",
    "\n",
    "def f(x):\n",
    "    x2 = x**2\n",
    "    s1 = x2 + np.append(0,x2[:-1])\n",
    "    xy = x[:-1]*x[1:]\n",
    "    xy1 = np.append(xy,0)\n",
    "    xy2 = np.append(0,xy)\n",
    "    s2 = xy1 + xy2\n",
    "    return s1 + s2\n",
    "\n",
    "F = lambda x:  f(x) + D.dot(x) - np.ones(dim)\n",
    "\n",
    "J = lambda x, rho: LA.norm(x - prox_g(x - rho*F(x), rho))\n",
    "\n",
    "# initial point\n",
    "np.random.seed(123)\n",
    "x0 = np.random.uniform(-10,10, dim)"
   ]
  },
  {
   "cell_type": "markdown",
   "metadata": {},
   "source": [
    "We consider two cases for the feasible sets below: $C = \\R^d_+$, $C = \\{x\\in \\R^d_+ \\colon x_1+\\dots x_d =d\\}$. Choose the respective proximal operator:"
   ]
  },
  {
   "cell_type": "code",
   "execution_count": 5,
   "metadata": {
    "collapsed": true
   },
   "outputs": [],
   "source": [
    "#prox_g = lambda x, rho: np.fmax(x,0)\n",
    "prox_g = lambda x, rho: proj_simplex(x,dim)\n"
   ]
  },
  {
   "cell_type": "code",
   "execution_count": 6,
   "metadata": {
    "collapsed": false
   },
   "outputs": [
    {
     "name": "stdout",
     "output_type": "stream",
     "text": [
      "---- FBF alg.----\n",
      "Number of iterations: 138\n",
      "Number of prox_g: 290\n",
      "Number of F, : 428\n",
      "Time execution: 0.07\n",
      "---- Alg. 1 ----\n",
      "Number of iterations: 78\n",
      "Number of prox_g: 78\n",
      "Number of F, : 166\n",
      "Time execution: 0.02\n",
      "---- Alg. 2 ----\n",
      "Number of iterations: 78\n",
      "Number of prox_g: 78\n",
      "Number of F, : 154\n",
      "Time execution: 0.02\n"
     ]
    }
   ],
   "source": [
    "N = 1000\n",
    "ans1 = tseng_fbf_linesearch(F, prox_g, x0, delta=1.5, numb_iter=N)\n",
    "ans2 = alg_VI_proj(F, prox_g, x0, tau_0=1, constr=True, numb_iter=N)\n",
    "ans3 = alg_VI_prox(F, prox_g, x0, numb_iter=N)"
   ]
  },
  {
   "cell_type": "code",
   "execution_count": 7,
   "metadata": {
    "collapsed": false
   },
   "outputs": [],
   "source": [
    "plt.plot(ans1[0],'b')\n",
    "plt.plot(ans2[0],'g')\n",
    "plt.plot(ans3[0],'r')\n",
    "plt.yscale('log')\n",
    "plt.show()"
   ]
  }
 ],
 "metadata": {
  "kernelspec": {
   "display_name": "Python 2",
   "language": "python",
   "name": "python2"
  },
  "language_info": {
   "codemirror_mode": {
    "name": "ipython",
    "version": 2
   },
   "file_extension": ".py",
   "mimetype": "text/x-python",
   "name": "python",
   "nbconvert_exporter": "python",
   "pygments_lexer": "ipython2",
   "version": "2.7.6"
  }
 },
 "nbformat": 4,
 "nbformat_minor": 0
}
