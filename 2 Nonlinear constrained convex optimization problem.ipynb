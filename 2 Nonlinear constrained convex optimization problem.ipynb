{
 "cells": [
  {
   "cell_type": "markdown",
   "metadata": {
    "ein.tags": [
     "worksheet-0"
    ]
   },
   "source": [
    "## Nonlinear constrained convex optimization problem 2\n",
    "$\\newcommand{\\n}[1]{\\left\\|#1 \\right\\|}$ \n",
    "$\\renewcommand{\\a}{\\alpha}             $ \n",
    "$\\renewcommand{\\b}{\\beta}              $ \n",
    "$\\renewcommand{\\c}{\\gamma}             $ \n",
    "$\\renewcommand{\\d}{\\delta}             $ \n",
    "$\\newcommand{\\D}{\\Delta}               $ \n",
    "$\\newcommand{\\la}{\\lambda}             $ \n",
    "$\\renewcommand{\\t}{\\tau}               $ \n",
    "$\\newcommand{\\s}{\\sigma}               $ \n",
    "$\\newcommand{\\e}{\\varepsilon}          $ \n",
    "$\\renewcommand{\\th}{\\theta}            $ \n",
    "$\\newcommand{\\x}{\\bar x}               $ \n",
    "$\\newcommand{\\R}{\\mathbb R}            $ \n",
    "$\\newcommand{\\N}{\\mathbb N}            $ \n",
    "$\\newcommand{\\Z}{\\mathbb Z}            $ \n",
    "$\\newcommand{\\E}{\\mathcal E}           $ \n",
    "$\\newcommand{\\lr}[1]{\\left\\langle #1\\right\\rangle}$\n",
    "$\\newcommand{\\nf}[1]{\\nabla f(#1)}     $\n",
    "$\\newcommand{\\hx}{\\hat x}               $\n",
    "$\\newcommand{\\hy}{\\hat y}               $\n",
    "$\\DeclareMathOperator{\\prox}{prox}      $\n",
    "$\\DeclareMathOperator{\\argmin}{argmin}  $\n",
    "$\\DeclareMathOperator{\\dom}{dom}        $\n",
    "$\\DeclareMathOperator{\\id}{Id}          $\n",
    "$\\DeclareMathOperator{\\conv}{conv}      $\n",
    "\n",
    "We are interested in a constrained convex optimization problem\n",
    "\\begin{align*}\n",
    "\\min_{x} &\\quad  f(x)\\\\\n",
    "& h_i(x)  \\leq 0, \\quad i=1,\\dots,m, \\\\\n",
    "& x \\in C,\n",
    "\\end{align*}\n",
    "\n",
    "where $f, h_i \\colon \\R^n \\to \\R$ are smooth convex functions, $C\\in \\R^n$ is a convex set, which encodes simple constraints (projection on which are simple). \n",
    "\n",
    "Introducing Lagrange multipliers $y_i$ for each of constraints, we obtain\n",
    "$$\\min_{x\\in C}\\max_{y \\in \\R^m_+} f(x) + \\sum_{i=1}^m y_i h_i(x)$$\n",
    "\n",
    "Then $$F(x,y) = \\binom{\\nabla f(x) + \\lr{y,\\nabla h(x)}}{-h(x)},$$\n",
    "where $h(x) = (h_1(x),\\dots, h_m(x))$, and thus, $\\nabla h(x) = (\\nabla h_1(x),\\dots, \\nabla h_m(x))$\n"
   ]
  },
  {
   "cell_type": "code",
   "execution_count": 1,
   "metadata": {
    "autoscroll": "json-false",
    "collapsed": false,
    "ein.tags": [
     "worksheet-0"
    ]
   },
   "outputs": [],
   "source": [
    "import matplotlib.pyplot as plt\n",
    "import scipy.sparse as sr\n",
    "\n",
    "from methods.algorithms_terminate import *\n",
    "from misc.opt_operators import *\n",
    "\n",
    "%load_ext autoreload\n",
    "%matplotlib inline\n",
    "%autoreload 2"
   ]
  },
  {
   "cell_type": "code",
   "execution_count": 5,
   "metadata": {
    "autoscroll": "json-false",
    "collapsed": false,
    "ein.tags": [
     "worksheet-0"
    ]
   },
   "outputs": [],
   "source": [
    "d = 5000\n",
    "m = d-1\n",
    "\n",
    "#gen = 1\n",
    "gen = 2\n",
    "\n",
    "np.random.seed(gen)\n",
    "c = np.random.uniform(-10,10,d-1)\n",
    "\n",
    "h = lambda x: (x[:-1]**4)- c*x[1:]\n",
    "\n",
    "def prox_g(z,eps):\n",
    "    x,y = z[:d], z[d:]\n",
    "    x1 = prox_norm_1(x,eps)\n",
    "    y1 = np.fmax(y,0)\n",
    "    return np.hstack([x1,y1])\n",
    "\n",
    "def dh_sparse(x):\n",
    "    t = 4*x[:-1]**3\n",
    "    data = [t, -c]\n",
    "    offsets = [0,1]\n",
    "    D = sr.diags(data, offsets, shape=(d-1, d), format='csr')\n",
    "    return D.T\n",
    "\n",
    "def F_sparse(z):\n",
    "    x,y = z[:d], z[d:]\n",
    "    x1 = dh_sparse(x).dot(y)\n",
    "    y1 = - h(x)\n",
    "    return np.hstack([x1,y1])\n",
    "\n",
    "\n",
    "# Note that for small dimensions (d<300) it is better to use non-sparse matrices:\n",
    "\n",
    "def dh(x):\n",
    "    t = 4*x[:-1]**3\n",
    "    D = np.zeros((d-1,d))\n",
    "    i,j = np.indices(D.shape)\n",
    "    D[i==j] = t\n",
    "    D[i==j-1] = -c\n",
    "    return D\n",
    "\n",
    "def F(z):\n",
    "    x,y = z[:d], z[d:]\n",
    "    x1 = y.dot(dh(x))\n",
    "    y1 = - h(x)\n",
    "    return np.hstack([x1,y1])\n",
    "\n",
    "\n",
    "x0 = np.ones(d)*10\n",
    "y0 = np.zeros(m)\n",
    "z0 = np.hstack([x0,y0])\n",
    "\n",
    "J = lambda z, rho: LA.norm(z - prox_g(z-rho*F(z),rho))"
   ]
  },
  {
   "cell_type": "code",
   "execution_count": 6,
   "metadata": {
    "autoscroll": "json-false",
    "collapsed": false,
    "ein.tags": [
     "worksheet-0"
    ],
    "scrolled": true
   },
   "outputs": [
    {
     "name": "stdout",
     "output_type": "stream",
     "text": [
      "---- FBF alg.----\n",
      "Number of iterations: 731\n",
      "Number of prox_g: 1544\n",
      "Number of F, : 2275\n",
      "Time execution: 3.64\n",
      "---- Alg. 1 ----\n",
      "Number of iterations: 366\n",
      "Number of prox_g: 366\n",
      "Number of F, : 770\n",
      "Time execution: 1.16\n",
      "---- Alg. 2 ----\n",
      "Number of iterations: 323\n",
      "Number of prox_g: 323\n",
      "Number of F, : 625\n",
      "Time execution: 0.96\n"
     ]
    }
   ],
   "source": [
    "N = 10000\n",
    "ans1 = tseng_fbf_linesearch(F_sparse, prox_g, z0, delta=1.5, numb_iter=N)\n",
    "ans2 = alg_VI_proj(F_sparse, prox_g, z0, tau_0=1, constr=True, numb_iter=N)\n",
    "ans3 = alg_VI_prox(F_sparse, prox_g, z0, numb_iter=N)"
   ]
  },
  {
   "cell_type": "code",
   "execution_count": 7,
   "metadata": {
    "autoscroll": "json-false",
    "collapsed": false,
    "ein.tags": [
     "worksheet-0"
    ]
   },
   "outputs": [
    {
     "data": {
      "image/png": "[encoded data removed]",
      "text/plain": [
       "<matplotlib.figure.Figure at 0x7f1126171610>"
      ]
     },
     "metadata": {},
     "output_type": "display_data"
    }
   ],
   "source": [
    "plt.plot(ans1[0],'b')\n",
    "plt.plot(ans2[0],'g')\n",
    "plt.plot(ans3[0],'r')\n",
    "plt.yscale('log')\n",
    "plt.show()"
   ]
  }
 ],
 "metadata": {
  "kernelspec": {
   "display_name": "Python 2",
   "language": "python",
   "name": "python2"
  },
  "language_info": {
   "codemirror_mode": {
    "name": "ipython",
    "version": 2
   },
   "file_extension": ".py",
   "mimetype": "text/x-python",
   "name": "python",
   "nbconvert_exporter": "python",
   "pygments_lexer": "ipython2",
   "version": "2.7.6"
  },
  "name": "2 Nonlinear constrained convex optimization problem.ipynb"
 },
 "nbformat": 4,
 "nbformat_minor": 0
}
