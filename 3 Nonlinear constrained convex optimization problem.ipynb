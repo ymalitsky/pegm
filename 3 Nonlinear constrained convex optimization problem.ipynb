{
 "cells": [
  {
   "cell_type": "markdown",
   "metadata": {},
   "source": [
    "## Nonlinear constrained convex optimization problem 3\n",
    "$\\newcommand{\\n}[1]{\\left\\|#1 \\right\\|}$ \n",
    "$\\renewcommand{\\a}{\\alpha}             $ \n",
    "$\\renewcommand{\\b}{\\beta}              $ \n",
    "$\\renewcommand{\\c}{\\gamma}             $ \n",
    "$\\renewcommand{\\d}{\\delta}             $ \n",
    "$\\newcommand{\\D}{\\Delta}               $ \n",
    "$\\newcommand{\\la}{\\lambda}             $ \n",
    "$\\renewcommand{\\t}{\\tau}               $ \n",
    "$\\newcommand{\\s}{\\sigma}               $ \n",
    "$\\newcommand{\\e}{\\varepsilon}          $ \n",
    "$\\renewcommand{\\th}{\\theta}            $ \n",
    "$\\newcommand{\\x}{\\bar x}               $ \n",
    "$\\newcommand{\\R}{\\mathbb R}            $ \n",
    "$\\newcommand{\\N}{\\mathbb N}            $ \n",
    "$\\newcommand{\\Z}{\\mathbb Z}            $ \n",
    "$\\newcommand{\\E}{\\mathcal E}           $ \n",
    "$\\newcommand{\\lr}[1]{\\left\\langle #1\\right\\rangle}$\n",
    "$\\newcommand{\\nf}[1]{\\nabla f(#1)}     $\n",
    "$\\newcommand{\\hx}{\\hat x}               $\n",
    "$\\newcommand{\\hy}{\\hat y}               $\n",
    "$\\DeclareMathOperator{\\prox}{prox}      $\n",
    "$\\DeclareMathOperator{\\argmin}{argmin}  $\n",
    "$\\DeclareMathOperator{\\dom}{dom}        $\n",
    "$\\DeclareMathOperator{\\id}{Id}          $\n",
    "$\\DeclareMathOperator{\\conv}{conv}      $\n",
    "\n",
    "We are interested in a constrained convex optimization problem\n",
    "\\begin{align*}\n",
    "\\min_{x} &\\quad  f(x)\\\\\n",
    "& h_i(x)  \\leq 0, \\quad i=1,\\dots,m, \\\\\n",
    "& x \\in C,\n",
    "\\end{align*}\n",
    "\n",
    "where $f, h_i \\colon \\R^d \\to \\R$ are smooth convex functions, $C\\in \\R^d$ is a convex set, which encodes simple constraints (projection on which are simple). \n",
    "\n",
    "Introducing Lagrange multipliers $y_i$ for each of constraints, we obtain\n",
    "$$\\min_{x\\in C}\\max_{y \\in \\R^m_+} f(x) + \\sum_{i=1}^m y_i h_i(x)$$\n",
    "\n",
    "Then $$F(x,y) = \\binom{\\nabla f(x) + \\lr{y,\\nabla h(x)}}{-h(x)},$$\n",
    "where $h(x) = (h_1(x),\\dots, h_m(x))$, and thus, $\\nabla h(x) = (\\nabla h_1(x),\\dots, \\nabla h_m(x))$\n"
   ]
  },
  {
   "cell_type": "code",
   "execution_count": 1,
   "metadata": {
    "collapsed": false
   },
   "outputs": [],
   "source": [
    "import matplotlib.pyplot as plt\n",
    "\n",
    "from methods.algorithms_terminate import *\n",
    "from misc.opt_operators import *\n",
    "\n",
    "%load_ext autoreload\n",
    "%matplotlib inline\n",
    "%autoreload 2"
   ]
  },
  {
   "cell_type": "code",
   "execution_count": 12,
   "metadata": {
    "collapsed": false
   },
   "outputs": [],
   "source": [
    "d = 5000\n",
    "m = 1\n",
    "\n",
    "gen = 1\n",
    "np.random.seed(gen)\n",
    "c = np.random.uniform(0,10, d)\n",
    "alpha = np.random.uniform(0,1, d)\n",
    "beta = np.random.uniform(0,1, d)\n",
    "\n",
    "\n",
    "f = lambda x: c.dot(x)\n",
    "df = lambda x: c\n",
    "\n",
    "\n",
    "h = lambda x: (alpha * np.exp(-beta * x)).sum() - d\n",
    "dh = lambda x: -beta * alpha * np.exp(-beta * x)  \n",
    "\n",
    "def F(z):\n",
    "    x,y = z[:d], z[d:]\n",
    "    x1 = df(x) + y*(dh(x))\n",
    "    y1 = - h(x)\n",
    "    return np.hstack([x1,y1])\n",
    "\n",
    "def prox_g(z,eps):\n",
    "    x,y = z[:d], z[d:]\n",
    "    x1 = x\n",
    "    #x1 = np.clip(x, -100,0)\n",
    "    x1 = proj_ball(x,np.zeros(d),10)\n",
    "    y1 = np.fmax(y,0)\n",
    "    return np.hstack([x1,y1])\n",
    "    \n",
    "x0 = np.ones(d)*10\n",
    "y0 = np.zeros(1)\n",
    "z0 = np.hstack([x0,y0])\n",
    "\n",
    "J = lambda z, rho: LA.norm(z - prox_g(z-rho*F(z),rho))\n"
   ]
  },
  {
   "cell_type": "code",
   "execution_count": 13,
   "metadata": {
    "collapsed": false
   },
   "outputs": [
    {
     "name": "stdout",
     "output_type": "stream",
     "text": [
      "---- FBF alg.----\n",
      "Number of iterations: 544\n",
      "Number of prox_g: 1173\n",
      "Number of F, : 1717\n",
      "Time execution: 0.58\n",
      "---- Alg. 1 ----\n",
      "Number of iterations: 21\n",
      "Number of prox_g: 21\n",
      "Number of F, : 60\n",
      "Time execution: 0.02\n",
      "---- Alg. 2 ----\n",
      "Number of iterations: 21\n",
      "Number of prox_g: 21\n",
      "Number of F, : 53\n",
      "Time execution: 0.02\n"
     ]
    }
   ],
   "source": [
    "N = 50000\n",
    "ans1 = tseng_fbf_linesearch(F, prox_g, z0, delta=1.5, numb_iter=N)\n",
    "ans2 = alg_VI_proj(F, prox_g, z0, tau_0=1, constr=True, numb_iter=N)\n",
    "ans3 = alg_VI_prox(F, prox_g, z0, numb_iter=N)"
   ]
  },
  {
   "cell_type": "code",
   "execution_count": 11,
   "metadata": {
    "collapsed": false
   },
   "outputs": [
    {
     "data": {
      "image/png": "[encoded data removed]",
      "text/plain": [
       "<matplotlib.figure.Figure at 0x7f20c88c44d0>"
      ]
     },
     "metadata": {},
     "output_type": "display_data"
    }
   ],
   "source": [
    "plt.plot(ans1[0],'b')\n",
    "plt.plot(ans2[0],'g')\n",
    "plt.plot(ans3[0],'r')\n",
    "\n",
    "plt.yscale('log')\n",
    "plt.show()"
   ]
  }
 ],
 "metadata": {
  "kernelspec": {
   "display_name": "Python 2",
   "language": "python",
   "name": "python2"
  },
  "language_info": {
   "codemirror_mode": {
    "name": "ipython",
    "version": 2
   },
   "file_extension": ".py",
   "mimetype": "text/x-python",
   "name": "python",
   "nbconvert_exporter": "python",
   "pygments_lexer": "ipython2",
   "version": "2.7.6"
  }
 },
 "nbformat": 4,
 "nbformat_minor": 0
}
